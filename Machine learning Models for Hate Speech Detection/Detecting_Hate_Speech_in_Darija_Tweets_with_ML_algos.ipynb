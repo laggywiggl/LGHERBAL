{
  "cells": [
    {
      "cell_type": "markdown",
      "source": [
        "#Detecting Hate Speech in Darija Tweets:"
      ],
      "metadata": {
        "id": "XyRk0imtnecQ"
      }
    },
    {
      "cell_type": "markdown",
      "source": [
        "A Comprehensive Machine Learning Approach with SVM, KNN, Logistic Regression, and Passive Aggressive Classifier"
      ],
      "metadata": {
        "id": "hObxBYgcQwlF"
      }
    },
    {
      "cell_type": "markdown",
      "source": [
        "Data Preprocessing and Preparation\n",
        "Data Cleaning:already cleaned the data from regular expressions and emojis in \"data_cleaned.csv\""
      ],
      "metadata": {
        "id": "iN3XP2scRCn8"
      }
    },
    {
      "cell_type": "code",
      "source": [
        "import numpy as np\n",
        "import pandas as pd\n",
        "from sklearn.model_selection import train_test_split ,GridSearchCV\n",
        "from sklearn.feature_extraction.text import TfidfVectorizer\n",
        "from sklearn import svm\n",
        "from sklearn.metrics import classification_report, confusion_matrix, accuracy_score"
      ],
      "metadata": {
        "id": "tnuu4yfypOBQ"
      },
      "execution_count": 1,
      "outputs": []
    },
    {
      "cell_type": "code",
      "source": [
        "from google.colab import drive\n",
        "drive.mount('/content/drive')\n"
      ],
      "metadata": {
        "id": "_r2rwMXspFqn",
        "colab": {
          "base_uri": "https://localhost:8080/"
        },
        "outputId": "77573ef1-821e-48c7-cd8a-5f7a1f7ea779"
      },
      "execution_count": 2,
      "outputs": [
        {
          "output_type": "stream",
          "name": "stdout",
          "text": [
            "Mounted at /content/drive\n"
          ]
        }
      ]
    },
    {
      "cell_type": "code",
      "source": [
        "df = pd.read_csv('/content/drive/My Drive/HateSpeechData/data_cleaned.csv')\n",
        "\n",
        "X = df['clean_tweet']  # Features\n",
        "y = df['label']  # Labels"
      ],
      "metadata": {
        "id": "4IYRdCrrROD-"
      },
      "execution_count": null,
      "outputs": []
    },
    {
      "cell_type": "markdown",
      "source": [
        "# using TF-IDF vectorization in SVM , KNN and LOGREF"
      ],
      "metadata": {
        "id": "eHbHAJVUI36c"
      }
    },
    {
      "cell_type": "code",
      "source": [
        "\n",
        "\n",
        "X_train, X_test, y_train, y_test = train_test_split(X, y, test_size=0.2, random_state=42)\n",
        "\n",
        "# Feature extraction\n",
        "X_train = X_train.fillna('')  # Replace NaN values with an empty string\n",
        "X_test = X_test.fillna('')\n",
        "\n",
        "# Convert text data into numerical features using TF-IDF vectorization\n",
        "vectorizer = TfidfVectorizer(max_features=5000)  # You can adjust max_features as needed\n",
        "X_train_tfidf = vectorizer.fit_transform(X_train)\n",
        "X_test_tfidf = vectorizer.transform(X_test)\n",
        "\n"
      ],
      "metadata": {
        "id": "2rGR54S4niEH"
      },
      "execution_count": 3,
      "outputs": []
    },
    {
      "cell_type": "code",
      "source": [
        "import matplotlib.pyplot as plt\n",
        "\n",
        "class_names = {0: 'Positive', 1: 'Neutral', 2: 'Negative'}\n",
        "\n",
        "# Count the occurrences of each class\n",
        "class_counts = df['label'].value_counts()\n",
        "\n",
        "# Replace numeric labels with class names\n",
        "class_counts.index = class_counts.index.map(class_names)\n",
        "\n",
        "# Plotting\n",
        "plt.figure(figsize=(8, 6))\n",
        "class_counts.plot(kind='bar', color='skyblue')\n",
        "plt.title('Distribution of Labels')\n",
        "plt.xlabel('Class')\n",
        "plt.ylabel('Count')\n",
        "plt.xticks(rotation=0)  # Rotate x-axis labels if needed\n",
        "plt.show()\n"
      ],
      "metadata": {
        "colab": {
          "base_uri": "https://localhost:8080/",
          "height": 564
        },
        "id": "IvciOU4N1AVs",
        "outputId": "44acfb2c-6ff8-41cb-dcf1-82ce4e2defbb"
      },
      "execution_count": 34,
      "outputs": [
        {
          "output_type": "display_data",
          "data": {
            "text/plain": [
              "<Figure size 800x600 with 1 Axes>"
            ],
            "image/png": "[encoded data removed]"
          },
          "metadata": {}
        }
      ]
    },
    {
      "cell_type": "markdown",
      "source": [
        "### SVM MODEL"
      ],
      "metadata": {
        "id": "HFY--t7NwrGZ"
      }
    },
    {
      "cell_type": "code",
      "source": [
        "# Model training\n",
        "# Initialize and train the SVM model\n",
        "\n",
        "#svm_model = svm.SVC(kernel='poly', degree=3, C=1)\n",
        "# Reduce the batch size for processing the embeddings\n",
        "\n",
        "svm_model = svm.SVC(kernel='linear')\n",
        "svm_model.fit(X_train_tfidf, y_train)\n",
        "\n",
        "# Model evaluation\n",
        "# Make predictions on the testing set\n",
        "y_pred = svm_model.predict(X_test_tfidf)\n",
        "\n"
      ],
      "metadata": {
        "id": "SfuhkeQ8pwsQ"
      },
      "execution_count": 6,
      "outputs": []
    },
    {
      "cell_type": "code",
      "source": [
        "# Evaluate the model\n",
        "print(\"Accuracy:\", accuracy_score(y_test, y_pred))\n",
        "print(\"\\nConfusion Matrix:\")\n",
        "print(confusion_matrix(y_test, y_pred))\n",
        "print(\"\\nClassification Report:\")\n",
        "print(classification_report(y_test, y_pred))\n"
      ],
      "metadata": {
        "colab": {
          "base_uri": "https://localhost:8080/"
        },
        "id": "m4s3IBULqZmf",
        "outputId": "50ed87c5-6218-4280-8bf8-3a08c66ec2e0"
      },
      "execution_count": 7,
      "outputs": [
        {
          "output_type": "stream",
          "name": "stdout",
          "text": [
            "Accuracy: 0.6956132497761862\n",
            "\n",
            "Confusion Matrix:\n",
            "[[244  56  56]\n",
            " [ 37 360  34]\n",
            " [ 67  90 173]]\n",
            "\n",
            "Classification Report:\n",
            "              precision    recall  f1-score   support\n",
            "\n",
            "           0       0.70      0.69      0.69       356\n",
            "           1       0.71      0.84      0.77       431\n",
            "           2       0.66      0.52      0.58       330\n",
            "\n",
            "    accuracy                           0.70      1117\n",
            "   macro avg       0.69      0.68      0.68      1117\n",
            "weighted avg       0.69      0.70      0.69      1117\n",
            "\n"
          ]
        }
      ]
    },
    {
      "cell_type": "code",
      "source": [
        "# Define the parameter grid\n",
        "param_grid = {'C': [0.1, 1, 10, 100],  # Regularization parameter\n",
        "              'gamma': [1, 0.1, 0.01, 0.001],  # Kernel coefficient\n",
        "              'kernel': ['linear', 'rbf']}  # Kernel type\n",
        "\n",
        "\n",
        "# Perform grid search with 5-fold cross-validation\n",
        "grid_search = GridSearchCV(svm_model, param_grid, cv=5, scoring='accuracy', verbose=1)\n",
        "grid_search.fit(X_train_tfidf, y_train)\n",
        "\n",
        "# Print the best parameters found by grid search\n",
        "print(\"Best Parameters:\", grid_search.best_params_)\n",
        "\n",
        "# Evaluate the best model on the testing set\n",
        "best_svm_model = grid_search.best_estimator_\n",
        "y_pred = best_svm_model.predict(X_test_tfidf)"
      ],
      "metadata": {
        "colab": {
          "base_uri": "https://localhost:8080/"
        },
        "id": "gCoWYfJSiYgc",
        "outputId": "3422e4e5-004e-4db2-f4e9-d728bb713c7d"
      },
      "execution_count": 8,
      "outputs": [
        {
          "output_type": "stream",
          "name": "stdout",
          "text": [
            "Fitting 5 folds for each of 32 candidates, totalling 160 fits\n",
            "Best Parameters: {'C': 1, 'gamma': 1, 'kernel': 'rbf'}\n"
          ]
        }
      ]
    },
    {
      "cell_type": "code",
      "source": [
        "from sklearn.metrics import accuracy_score\n",
        "\n",
        "# Evaluate the best model on the testing set\n",
        "best_svm_model = grid_search.best_estimator_\n",
        "y_pred = best_svm_model.predict(X_test_tfidf)\n",
        "\n",
        "# Calculate accuracy\n",
        "accuracy = accuracy_score(y_test, y_pred)\n",
        "print(\"Accuracy:\", accuracy)"
      ],
      "metadata": {
        "colab": {
          "base_uri": "https://localhost:8080/"
        },
        "id": "OMiL9bdrjlT-",
        "outputId": "9d4a3688-b00c-4446-cd47-b9d7515c59c0"
      },
      "execution_count": 9,
      "outputs": [
        {
          "output_type": "stream",
          "name": "stdout",
          "text": [
            "Accuracy: 0.7224709042076992\n"
          ]
        }
      ]
    },
    {
      "cell_type": "markdown",
      "source": [
        "### cell use for testing the predcition for SVM"
      ],
      "metadata": {
        "id": "QjMP1jkIxWyx"
      }
    },
    {
      "cell_type": "code",
      "source": [
        "#Prediction\n",
        "# Example of making predictions on new data\n",
        "new_tweet = [\"واكواك الحق على دولة\"]\n",
        "new_tweet_tfidf = vectorizer.transform(new_tweet)\n",
        "predicted_class = best_svm_model.predict(new_tweet_tfidf)\n",
        "print(\"\\nPredicted Class:\", predicted_class)"
      ],
      "metadata": {
        "colab": {
          "base_uri": "https://localhost:8080/"
        },
        "id": "43ipo5abqeCX",
        "outputId": "841c1031-de43-4fce-8eaf-5f226c43c44c"
      },
      "execution_count": 23,
      "outputs": [
        {
          "output_type": "stream",
          "name": "stdout",
          "text": [
            "\n",
            "Predicted Class: [2]\n"
          ]
        }
      ]
    },
    {
      "cell_type": "code",
      "source": [
        "from joblib import dump\n",
        "\n",
        "# Save the best SVM model to a file\n",
        "dump(best_svm_model, '/content/drive/My Drive/HateSpeechData/best_svm_model.joblib')"
      ],
      "metadata": {
        "colab": {
          "base_uri": "https://localhost:8080/"
        },
        "id": "-zvSDkS5lIPF",
        "outputId": "3e151c64-7d3d-4e12-80d3-08ea8ed961c4"
      },
      "execution_count": 15,
      "outputs": [
        {
          "output_type": "execute_result",
          "data": {
            "text/plain": [
              "['/content/drive/My Drive/HateSpeechData/best_svm_model.joblib']"
            ]
          },
          "metadata": {},
          "execution_count": 15
        }
      ]
    },
    {
      "cell_type": "markdown",
      "source": [
        "### KNN model"
      ],
      "metadata": {
        "id": "opiyF8wzwuN4"
      }
    },
    {
      "cell_type": "code",
      "source": [
        "from sklearn.neighbors import KNeighborsClassifier\n",
        "from sklearn.metrics import classification_report, confusion_matrix, accuracy_score\n"
      ],
      "metadata": {
        "id": "DbYsyqViw4qa"
      },
      "execution_count": 13,
      "outputs": []
    },
    {
      "cell_type": "code",
      "source": [
        "# Model training\n",
        "# Initialize and train the KNN model\n",
        "k = 3  # Number of neighbors to consider, you can adjust this value\n",
        "knn_model = KNeighborsClassifier(n_neighbors=k)\n",
        "knn_model.fit(X_train_tfidf, y_train)\n",
        "\n",
        "# Model evaluation\n",
        "# Make predictions on the testing set\n",
        "y_pred = knn_model.predict(X_test_tfidf)"
      ],
      "metadata": {
        "id": "xbxoBsDxwywB"
      },
      "execution_count": 16,
      "outputs": []
    },
    {
      "cell_type": "code",
      "source": [
        "# Evaluate the model\n",
        "print(\"Accuracy:\", accuracy_score(y_test, y_pred))\n",
        "print(\"\\nConfusion Matrix:\")\n",
        "print(confusion_matrix(y_test, y_pred))\n",
        "print(\"\\nClassification Report:\")\n",
        "print(classification_report(y_test, y_pred))\n",
        "\n"
      ],
      "metadata": {
        "colab": {
          "base_uri": "https://localhost:8080/"
        },
        "id": "lXBwDKH1xj-Z",
        "outputId": "74c61065-aa35-47c6-b250-7b2820370695"
      },
      "execution_count": 17,
      "outputs": [
        {
          "output_type": "stream",
          "name": "stdout",
          "text": [
            "Accuracy: 0.37063563115487913\n",
            "\n",
            "Confusion Matrix:\n",
            "[[339   2  15]\n",
            " [377  31  23]\n",
            " [277   9  44]]\n",
            "\n",
            "Classification Report:\n",
            "              precision    recall  f1-score   support\n",
            "\n",
            "           0       0.34      0.95      0.50       356\n",
            "           1       0.74      0.07      0.13       431\n",
            "           2       0.54      0.13      0.21       330\n",
            "\n",
            "    accuracy                           0.37      1117\n",
            "   macro avg       0.54      0.39      0.28      1117\n",
            "weighted avg       0.55      0.37      0.27      1117\n",
            "\n"
          ]
        }
      ]
    },
    {
      "cell_type": "code",
      "source": [
        "param_grid = {\n",
        "    'n_neighbors': [3, 5, 7, 9],  # Number of neighbors\n",
        "    'weights': ['uniform', 'distance'],  # Weight function used in prediction\n",
        "    'metric': ['euclidean', 'manhattan']  # Distance metric\n",
        "}\n",
        "\n",
        "\n",
        "grid_search = GridSearchCV(estimator=knn_model, param_grid=param_grid, cv=5, n_jobs=-1)\n",
        "grid_search.fit(X_train_tfidf, y_train)\n",
        "\n",
        "# best hyperparameters and best model\n",
        "best_params = grid_search.best_params_\n",
        "best_model_knn = grid_search.best_estimator_\n",
        "\n",
        "print(\"Best Hyperparameters:\", best_params)"
      ],
      "metadata": {
        "colab": {
          "base_uri": "https://localhost:8080/"
        },
        "outputId": "a5874b26-8dff-49ef-c775-fc0e0732b7c2",
        "id": "HVkQzf9qOVRz"
      },
      "execution_count": 18,
      "outputs": [
        {
          "output_type": "stream",
          "name": "stdout",
          "text": [
            "Best Hyperparameters: {'metric': 'euclidean', 'n_neighbors': 3, 'weights': 'distance'}\n"
          ]
        }
      ]
    },
    {
      "cell_type": "code",
      "source": [
        "from sklearn.metrics import accuracy_score\n",
        "\n",
        "# Evaluate the best model on the testing set\n",
        "best_model_knn = grid_search.best_estimator_\n",
        "y_pred = best_model_knn.predict(X_test_tfidf)\n",
        "\n",
        "# Calculate accuracy\n",
        "accuracy = accuracy_score(y_test, y_pred)\n",
        "print(\"Accuracy:\", accuracy)"
      ],
      "metadata": {
        "colab": {
          "base_uri": "https://localhost:8080/"
        },
        "id": "jwxioMEQm-In",
        "outputId": "8d552f18-bd9d-45e3-b4d7-634f1c99b4da"
      },
      "execution_count": 25,
      "outputs": [
        {
          "output_type": "stream",
          "name": "stdout",
          "text": [
            "Accuracy: 0.39212175470008953\n"
          ]
        }
      ]
    },
    {
      "cell_type": "markdown",
      "source": [
        "K-Nearest Neighbors (KNN) may not be the most suitable model for our data. KNN works well when the decision boundary is smooth and the data is well-separated. If our data has high dimensionality or noisy features, KNN might struggle to perform well."
      ],
      "metadata": {
        "id": "HeHkKeXFyEuB"
      }
    },
    {
      "cell_type": "code",
      "source": [
        "# Prediction\n",
        "# Example of making predictions on new data\n",
        "new_tweet = [\"واكواك الحق على دولة\"]\n",
        "new_tweet_tfidf = vectorizer.transform(new_tweet)\n",
        "predicted_class = best_model_knn.predict(new_tweet_tfidf)\n",
        "print(\"\\nPredicted Class:\", predicted_class)"
      ],
      "metadata": {
        "colab": {
          "base_uri": "https://localhost:8080/"
        },
        "id": "toV-ENWWxx6a",
        "outputId": "9f921c14-b0f4-41d2-840e-9ef535590433"
      },
      "execution_count": 24,
      "outputs": [
        {
          "output_type": "stream",
          "name": "stdout",
          "text": [
            "\n",
            "Predicted Class: [0]\n"
          ]
        }
      ]
    },
    {
      "cell_type": "markdown",
      "source": [
        "###  logistic regression MODEL"
      ],
      "metadata": {
        "id": "mvzJ92RL-Xfj"
      }
    },
    {
      "cell_type": "code",
      "source": [
        "from sklearn.linear_model import LogisticRegression"
      ],
      "metadata": {
        "id": "LAbDYqgV-iLz"
      },
      "execution_count": 26,
      "outputs": []
    },
    {
      "cell_type": "code",
      "source": [
        "# Model training\n",
        "# Initialize and train the logistic regression model\n",
        "logistic_model = LogisticRegression(max_iter=100,C=1,multi_class=\"ovr\")  # You can adjust max_iter as needed\n",
        "logistic_model.fit(X_train_tfidf, y_train)\n",
        "\n",
        "# Model evaluation\n",
        "# Make predictions on the testing set\n",
        "y_pred = logistic_model.predict(X_test_tfidf)\n",
        "\n",
        "# Evaluate the model\n",
        "print(\"Accuracy:\", accuracy_score(y_test, y_pred))\n",
        "print(\"\\nConfusion Matrix:\")\n",
        "print(confusion_matrix(y_test, y_pred))\n",
        "print(\"\\nClassification Report:\")\n",
        "print(classification_report(y_test, y_pred))"
      ],
      "metadata": {
        "colab": {
          "base_uri": "https://localhost:8080/"
        },
        "id": "f8N3hibd-ZCm",
        "outputId": "5cfdd108-b33b-44d3-b38e-b200a2e78833"
      },
      "execution_count": 27,
      "outputs": [
        {
          "output_type": "stream",
          "name": "stdout",
          "text": [
            "Accuracy: 0.7081468218442256\n",
            "\n",
            "Confusion Matrix:\n",
            "[[238  75  43]\n",
            " [ 27 382  22]\n",
            " [ 48 111 171]]\n",
            "\n",
            "Classification Report:\n",
            "              precision    recall  f1-score   support\n",
            "\n",
            "           0       0.76      0.67      0.71       356\n",
            "           1       0.67      0.89      0.76       431\n",
            "           2       0.72      0.52      0.60       330\n",
            "\n",
            "    accuracy                           0.71      1117\n",
            "   macro avg       0.72      0.69      0.69      1117\n",
            "weighted avg       0.72      0.71      0.70      1117\n",
            "\n"
          ]
        }
      ]
    },
    {
      "cell_type": "code",
      "source": [
        "param_grid = {\n",
        "    'C': [0.01, 0.1, 1, 10, 100],  # Regularization parameter\n",
        "    'max_iter': [100, 200, 300, 400, 500]  # Maximum number of iterations\n",
        "}"
      ],
      "metadata": {
        "id": "if_9xz2-EkAo"
      },
      "execution_count": 28,
      "outputs": []
    },
    {
      "cell_type": "code",
      "source": [
        "# Perform grid search\n",
        "grid_search = GridSearchCV(estimator=logistic_model, param_grid=param_grid, cv=5, n_jobs=-1)\n",
        "grid_search.fit(X_train_tfidf, y_train)\n",
        "\n",
        "# Step 8: Get best hyperparameters and best model\n",
        "best_params = grid_search.best_params_\n",
        "best_model_reg = grid_search.best_estimator_\n",
        "\n",
        "print(\"Best Hyperparameters:\", best_params)"
      ],
      "metadata": {
        "colab": {
          "base_uri": "https://localhost:8080/"
        },
        "id": "K8eEeA4wEbux",
        "outputId": "11f0e0cc-9aaa-42a7-a6ef-842a180cd4b4"
      },
      "execution_count": 29,
      "outputs": [
        {
          "output_type": "stream",
          "name": "stdout",
          "text": [
            "Best Hyperparameters: {'C': 1, 'max_iter': 100}\n"
          ]
        }
      ]
    },
    {
      "cell_type": "code",
      "source": [
        "from sklearn.metrics import accuracy_score\n",
        "\n",
        "# Evaluate the best model on the testing set\n",
        "best_model_reg = grid_search.best_estimator_\n",
        "y_pred = best_model_reg.predict(X_test_tfidf)\n",
        "\n",
        "# Calculate accuracy\n",
        "accuracy = accuracy_score(y_test, y_pred)\n",
        "print(\"Accuracy:\", accuracy)"
      ],
      "metadata": {
        "colab": {
          "base_uri": "https://localhost:8080/"
        },
        "id": "poyUrZy8nkyW",
        "outputId": "cb906de8-25e2-4822-8d9c-28abc32f2a4a"
      },
      "execution_count": 30,
      "outputs": [
        {
          "output_type": "stream",
          "name": "stdout",
          "text": [
            "Accuracy: 0.7081468218442256\n"
          ]
        }
      ]
    },
    {
      "cell_type": "code",
      "source": [
        "# Prediction\n",
        "# Example of making predictions on new data\n",
        "new_tweet = [\"عاش ملكنا محمد السادس...نفديك بارواحنا....نحبك دمت رمزا لهذا الوطن العزيز...نحن اوفياء للعرش العلوي\"]\n",
        "new_tweet_tfidf = vectorizer.transform(new_tweet)\n",
        "predicted_class = best_model_reg.predict(new_tweet_tfidf)\n",
        "print(\"\\nPredicted Class:\", predicted_class)"
      ],
      "metadata": {
        "colab": {
          "base_uri": "https://localhost:8080/"
        },
        "outputId": "5a7c2582-3587-441b-dcc8-61ef31cb37af",
        "id": "YUJcDPvf-ozh"
      },
      "execution_count": 31,
      "outputs": [
        {
          "output_type": "stream",
          "name": "stdout",
          "text": [
            "\n",
            "Predicted Class: [0]\n"
          ]
        }
      ]
    },
    {
      "cell_type": "code",
      "source": [
        "import joblib\n",
        "\n",
        "# Assuming logistic_model is your trained logistic regression model\n",
        "# Save the model to a file\n",
        "joblib.dump(best_model_reg, '/content/drive/My Drive/HateSpeechData/logistic_regression_model.pkl')"
      ],
      "metadata": {
        "colab": {
          "base_uri": "https://localhost:8080/"
        },
        "id": "f0Dpal4awxkA",
        "outputId": "77644219-78a9-45ca-e7c5-243b70112c66"
      },
      "execution_count": 33,
      "outputs": [
        {
          "output_type": "execute_result",
          "data": {
            "text/plain": [
              "['/content/drive/My Drive/HateSpeechData/logistic_regression_model.pkl']"
            ]
          },
          "metadata": {},
          "execution_count": 33
        }
      ]
    },
    {
      "cell_type": "markdown",
      "source": [
        "# using PassiveAggressiveClassifier and tokenizer bertDARIJA\n",
        "\n"
      ],
      "metadata": {
        "id": "lsiAy6ZhF-ab"
      }
    },
    {
      "cell_type": "code",
      "source": [
        "from transformers import AutoTokenizer, AutoModel\n",
        "\n",
        "# Load the DarijaBERT tokenizer and model\n",
        "tokenizer = AutoTokenizer.from_pretrained(\"SI2M-Lab/DarijaBERT\")\n",
        "model = AutoModel.from_pretrained(\"SI2M-Lab/DarijaBERT\")"
      ],
      "metadata": {
        "id": "cARb8WswJZJ_",
        "colab": {
          "base_uri": "https://localhost:8080/"
        },
        "outputId": "d4cc852c-e4e5-4b0d-8dbe-7dec529a475c"
      },
      "execution_count": 10,
      "outputs": [
        {
          "output_type": "stream",
          "name": "stderr",
          "text": [
            "/usr/local/lib/python3.10/dist-packages/huggingface_hub/utils/_token.py:88: UserWarning: \n",
            "The secret `HF_TOKEN` does not exist in your Colab secrets.\n",
            "To authenticate with the Hugging Face Hub, create a token in your settings tab (https://huggingface.co/settings/tokens), set it as secret in your Google Colab and restart your session.\n",
            "You will be able to reuse this secret in all of your notebooks.\n",
            "Please note that authentication is recommended but still optional to access public models or datasets.\n",
            "  warnings.warn(\n",
            "The `xla_device` argument has been deprecated in v4.4.0 of Transformers. It is ignored and you can safely remove it from your `config.json` file.\n",
            "The `xla_device` argument has been deprecated in v4.4.0 of Transformers. It is ignored and you can safely remove it from your `config.json` file.\n",
            "The `xla_device` argument has been deprecated in v4.4.0 of Transformers. It is ignored and you can safely remove it from your `config.json` file.\n",
            "Some weights of BertModel were not initialized from the model checkpoint at SI2M-Lab/DarijaBERT and are newly initialized: ['bert.pooler.dense.weight', 'bert.pooler.dense.bias']\n",
            "You should probably TRAIN this model on a down-stream task to be able to use it for predictions and inference.\n"
          ]
        }
      ]
    },
    {
      "cell_type": "code",
      "source": [
        "X = df['clean_tweet'].tolist()  # Features\n",
        "y = df['label'].tolist()  # Labels"
      ],
      "metadata": {
        "id": "sUq7uFJ2SsxM"
      },
      "execution_count": 6,
      "outputs": []
    },
    {
      "cell_type": "code",
      "source": [
        "from torch.utils.data import DataLoader\n",
        "import torch\n",
        "# Enable GPU if available\n",
        "device = torch.device(\"cuda\" if torch.cuda.is_available() else \"cpu\")\n",
        "\n",
        "# Set batch size and number of batches\n",
        "batch_size = 20\n",
        "num_sentences = len(X)\n",
        "num_batches = (num_sentences + batch_size - 1) // batch_size\n",
        "\n",
        "# Create a DataLoader for efficient batch processing\n",
        "data_loader = DataLoader(X, batch_size=batch_size, shuffle=False)\n",
        "\n",
        "embeddings_list = []\n",
        "\n",
        "# Process batches in parallel using multiple workers\n",
        "with torch.no_grad():\n",
        "    for batch_comments in data_loader:\n",
        "        batch_comments = [str(comment) for comment in batch_comments]  # Convert tensor to string\n",
        "        encoded_inputs = tokenizer(batch_comments, padding=\"max_length\", max_length=128, truncation=True, return_tensors='pt').to(device)\n",
        "        model.to(device)\n",
        "        batch_embeddings = model(**encoded_inputs).last_hidden_state\n",
        "        embeddings_list.append(batch_embeddings)\n",
        "        print(f'Batch {len(embeddings_list)}/{len(data_loader)} completed')\n",
        "\n",
        ""
      ],
      "metadata": {
        "colab": {
          "base_uri": "https://localhost:8080/"
        },
        "id": "ndVc5pBvJbDR",
        "outputId": "409163f5-24e0-4bf7-8496-8e92f49fc956"
      },
      "execution_count": 9,
      "outputs": [
        {
          "output_type": "stream",
          "name": "stdout",
          "text": [
            "Batch 1/280 completed\n",
            "Batch 2/280 completed\n",
            "Batch 3/280 completed\n",
            "Batch 4/280 completed\n",
            "Batch 5/280 completed\n",
            "Batch 6/280 completed\n",
            "Batch 7/280 completed\n",
            "Batch 8/280 completed\n",
            "Batch 9/280 completed\n",
            "Batch 10/280 completed\n",
            "Batch 11/280 completed\n",
            "Batch 12/280 completed\n",
            "Batch 13/280 completed\n",
            "Batch 14/280 completed\n",
            "Batch 15/280 completed\n",
            "Batch 16/280 completed\n",
            "Batch 17/280 completed\n",
            "Batch 18/280 completed\n",
            "Batch 19/280 completed\n",
            "Batch 20/280 completed\n",
            "Batch 21/280 completed\n",
            "Batch 22/280 completed\n",
            "Batch 23/280 completed\n",
            "Batch 24/280 completed\n",
            "Batch 25/280 completed\n",
            "Batch 26/280 completed\n",
            "Batch 27/280 completed\n",
            "Batch 28/280 completed\n",
            "Batch 29/280 completed\n",
            "Batch 30/280 completed\n",
            "Batch 31/280 completed\n",
            "Batch 32/280 completed\n",
            "Batch 33/280 completed\n",
            "Batch 34/280 completed\n",
            "Batch 35/280 completed\n",
            "Batch 36/280 completed\n",
            "Batch 37/280 completed\n",
            "Batch 38/280 completed\n",
            "Batch 39/280 completed\n",
            "Batch 40/280 completed\n",
            "Batch 41/280 completed\n",
            "Batch 42/280 completed\n",
            "Batch 43/280 completed\n",
            "Batch 44/280 completed\n",
            "Batch 45/280 completed\n",
            "Batch 46/280 completed\n",
            "Batch 47/280 completed\n",
            "Batch 48/280 completed\n",
            "Batch 49/280 completed\n",
            "Batch 50/280 completed\n",
            "Batch 51/280 completed\n",
            "Batch 52/280 completed\n",
            "Batch 53/280 completed\n",
            "Batch 54/280 completed\n",
            "Batch 55/280 completed\n",
            "Batch 56/280 completed\n",
            "Batch 57/280 completed\n",
            "Batch 58/280 completed\n",
            "Batch 59/280 completed\n",
            "Batch 60/280 completed\n",
            "Batch 61/280 completed\n",
            "Batch 62/280 completed\n",
            "Batch 63/280 completed\n",
            "Batch 64/280 completed\n",
            "Batch 65/280 completed\n",
            "Batch 66/280 completed\n",
            "Batch 67/280 completed\n",
            "Batch 68/280 completed\n",
            "Batch 69/280 completed\n",
            "Batch 70/280 completed\n",
            "Batch 71/280 completed\n",
            "Batch 72/280 completed\n",
            "Batch 73/280 completed\n",
            "Batch 74/280 completed\n",
            "Batch 75/280 completed\n",
            "Batch 76/280 completed\n",
            "Batch 77/280 completed\n",
            "Batch 78/280 completed\n",
            "Batch 79/280 completed\n",
            "Batch 80/280 completed\n",
            "Batch 81/280 completed\n",
            "Batch 82/280 completed\n",
            "Batch 83/280 completed\n",
            "Batch 84/280 completed\n",
            "Batch 85/280 completed\n",
            "Batch 86/280 completed\n",
            "Batch 87/280 completed\n",
            "Batch 88/280 completed\n",
            "Batch 89/280 completed\n",
            "Batch 90/280 completed\n",
            "Batch 91/280 completed\n",
            "Batch 92/280 completed\n",
            "Batch 93/280 completed\n",
            "Batch 94/280 completed\n",
            "Batch 95/280 completed\n",
            "Batch 96/280 completed\n",
            "Batch 97/280 completed\n",
            "Batch 98/280 completed\n",
            "Batch 99/280 completed\n",
            "Batch 100/280 completed\n",
            "Batch 101/280 completed\n",
            "Batch 102/280 completed\n",
            "Batch 103/280 completed\n",
            "Batch 104/280 completed\n",
            "Batch 105/280 completed\n",
            "Batch 106/280 completed\n",
            "Batch 107/280 completed\n",
            "Batch 108/280 completed\n",
            "Batch 109/280 completed\n",
            "Batch 110/280 completed\n",
            "Batch 111/280 completed\n",
            "Batch 112/280 completed\n",
            "Batch 113/280 completed\n",
            "Batch 114/280 completed\n",
            "Batch 115/280 completed\n",
            "Batch 116/280 completed\n",
            "Batch 117/280 completed\n",
            "Batch 118/280 completed\n",
            "Batch 119/280 completed\n",
            "Batch 120/280 completed\n",
            "Batch 121/280 completed\n",
            "Batch 122/280 completed\n",
            "Batch 123/280 completed\n",
            "Batch 124/280 completed\n",
            "Batch 125/280 completed\n",
            "Batch 126/280 completed\n",
            "Batch 127/280 completed\n",
            "Batch 128/280 completed\n",
            "Batch 129/280 completed\n",
            "Batch 130/280 completed\n",
            "Batch 131/280 completed\n",
            "Batch 132/280 completed\n",
            "Batch 133/280 completed\n",
            "Batch 134/280 completed\n",
            "Batch 135/280 completed\n",
            "Batch 136/280 completed\n",
            "Batch 137/280 completed\n",
            "Batch 138/280 completed\n",
            "Batch 139/280 completed\n",
            "Batch 140/280 completed\n",
            "Batch 141/280 completed\n",
            "Batch 142/280 completed\n",
            "Batch 143/280 completed\n",
            "Batch 144/280 completed\n",
            "Batch 145/280 completed\n",
            "Batch 146/280 completed\n",
            "Batch 147/280 completed\n",
            "Batch 148/280 completed\n",
            "Batch 149/280 completed\n",
            "Batch 150/280 completed\n",
            "Batch 151/280 completed\n",
            "Batch 152/280 completed\n",
            "Batch 153/280 completed\n",
            "Batch 154/280 completed\n",
            "Batch 155/280 completed\n",
            "Batch 156/280 completed\n",
            "Batch 157/280 completed\n",
            "Batch 158/280 completed\n",
            "Batch 159/280 completed\n",
            "Batch 160/280 completed\n",
            "Batch 161/280 completed\n",
            "Batch 162/280 completed\n",
            "Batch 163/280 completed\n",
            "Batch 164/280 completed\n",
            "Batch 165/280 completed\n",
            "Batch 166/280 completed\n",
            "Batch 167/280 completed\n",
            "Batch 168/280 completed\n",
            "Batch 169/280 completed\n",
            "Batch 170/280 completed\n",
            "Batch 171/280 completed\n",
            "Batch 172/280 completed\n",
            "Batch 173/280 completed\n",
            "Batch 174/280 completed\n",
            "Batch 175/280 completed\n",
            "Batch 176/280 completed\n",
            "Batch 177/280 completed\n",
            "Batch 178/280 completed\n",
            "Batch 179/280 completed\n",
            "Batch 180/280 completed\n",
            "Batch 181/280 completed\n",
            "Batch 182/280 completed\n",
            "Batch 183/280 completed\n",
            "Batch 184/280 completed\n",
            "Batch 185/280 completed\n",
            "Batch 186/280 completed\n",
            "Batch 187/280 completed\n",
            "Batch 188/280 completed\n",
            "Batch 189/280 completed\n",
            "Batch 190/280 completed\n",
            "Batch 191/280 completed\n",
            "Batch 192/280 completed\n",
            "Batch 193/280 completed\n",
            "Batch 194/280 completed\n",
            "Batch 195/280 completed\n",
            "Batch 196/280 completed\n",
            "Batch 197/280 completed\n",
            "Batch 198/280 completed\n",
            "Batch 199/280 completed\n",
            "Batch 200/280 completed\n",
            "Batch 201/280 completed\n",
            "Batch 202/280 completed\n",
            "Batch 203/280 completed\n",
            "Batch 204/280 completed\n",
            "Batch 205/280 completed\n",
            "Batch 206/280 completed\n",
            "Batch 207/280 completed\n",
            "Batch 208/280 completed\n",
            "Batch 209/280 completed\n",
            "Batch 210/280 completed\n",
            "Batch 211/280 completed\n",
            "Batch 212/280 completed\n",
            "Batch 213/280 completed\n",
            "Batch 214/280 completed\n",
            "Batch 215/280 completed\n",
            "Batch 216/280 completed\n",
            "Batch 217/280 completed\n",
            "Batch 218/280 completed\n",
            "Batch 219/280 completed\n",
            "Batch 220/280 completed\n",
            "Batch 221/280 completed\n",
            "Batch 222/280 completed\n",
            "Batch 223/280 completed\n",
            "Batch 224/280 completed\n",
            "Batch 225/280 completed\n",
            "Batch 226/280 completed\n",
            "Batch 227/280 completed\n",
            "Batch 228/280 completed\n",
            "Batch 229/280 completed\n",
            "Batch 230/280 completed\n",
            "Batch 231/280 completed\n",
            "Batch 232/280 completed\n",
            "Batch 233/280 completed\n",
            "Batch 234/280 completed\n",
            "Batch 235/280 completed\n",
            "Batch 236/280 completed\n",
            "Batch 237/280 completed\n",
            "Batch 238/280 completed\n",
            "Batch 239/280 completed\n",
            "Batch 240/280 completed\n",
            "Batch 241/280 completed\n",
            "Batch 242/280 completed\n",
            "Batch 243/280 completed\n",
            "Batch 244/280 completed\n",
            "Batch 245/280 completed\n",
            "Batch 246/280 completed\n",
            "Batch 247/280 completed\n",
            "Batch 248/280 completed\n",
            "Batch 249/280 completed\n",
            "Batch 250/280 completed\n",
            "Batch 251/280 completed\n",
            "Batch 252/280 completed\n",
            "Batch 253/280 completed\n",
            "Batch 254/280 completed\n",
            "Batch 255/280 completed\n",
            "Batch 256/280 completed\n",
            "Batch 257/280 completed\n",
            "Batch 258/280 completed\n",
            "Batch 259/280 completed\n",
            "Batch 260/280 completed\n",
            "Batch 261/280 completed\n",
            "Batch 262/280 completed\n",
            "Batch 263/280 completed\n",
            "Batch 264/280 completed\n",
            "Batch 265/280 completed\n",
            "Batch 266/280 completed\n",
            "Batch 267/280 completed\n",
            "Batch 268/280 completed\n",
            "Batch 269/280 completed\n",
            "Batch 270/280 completed\n",
            "Batch 271/280 completed\n",
            "Batch 272/280 completed\n",
            "Batch 273/280 completed\n",
            "Batch 274/280 completed\n",
            "Batch 275/280 completed\n",
            "Batch 276/280 completed\n",
            "Batch 277/280 completed\n",
            "Batch 278/280 completed\n",
            "Batch 279/280 completed\n",
            "Batch 280/280 completed\n"
          ]
        }
      ]
    },
    {
      "cell_type": "code",
      "source": [
        "# Concatenate the embeddings from all batches\n",
        "embeddings = torch.cat(embeddings_list, dim=0)\n",
        "\n",
        "# Convert the embeddings to numpy array\n",
        "embeddings = embeddings.cpu().numpy()"
      ],
      "metadata": {
        "id": "kLRB7yUhonUz"
      },
      "execution_count": 10,
      "outputs": []
    },
    {
      "cell_type": "code",
      "source": [
        "np.save('/content/drive/My Drive/HateSpeechData/embeddings.npy', embeddings)"
      ],
      "metadata": {
        "id": "MdQ_aPrfiRWV"
      },
      "execution_count": 11,
      "outputs": []
    },
    {
      "cell_type": "code",
      "source": [
        "embeddings = np.load('/content/drive/My Drive/HateSpeechData/embeddings.npy')"
      ],
      "metadata": {
        "id": "nsz65hIXaCs-"
      },
      "execution_count": 4,
      "outputs": []
    },
    {
      "cell_type": "code",
      "source": [
        "reshaped_embeddings = embeddings.reshape(embeddings.shape[0], -1)\n",
        "\n",
        "# Split the data into train and test sets\n",
        "X_train, X_test, y_train, y_test = train_test_split(reshaped_embeddings, y, test_size=0.2, random_state=42)"
      ],
      "metadata": {
        "id": "LMfP6dqi9Yi8"
      },
      "execution_count": 5,
      "outputs": []
    },
    {
      "cell_type": "code",
      "source": [
        "from sklearn.linear_model import PassiveAggressiveClassifier\n",
        "\n",
        "# Reduce the batch size for processing the embeddings\n",
        "batch_size = 10\n",
        "num_embeddings = reshaped_embeddings.shape[0]\n",
        "num_batches = (num_embeddings + batch_size - 1) // batch_size\n",
        "\n",
        "# Train a Passive Aggressive Classifier\n",
        "pac = PassiveAggressiveClassifier(random_state=42)\n",
        "for i in range(num_batches):\n",
        "    start_idx = i * batch_size\n",
        "    end_idx = min((i + 1) * batch_size, num_embeddings)\n",
        "    pac.partial_fit(reshaped_embeddings[start_idx:end_idx], y[start_idx:end_idx], classes=[0, 1, 2])  # Update the classes accordingly\n",
        "\n",
        "# Predict the labels for the test set\n",
        "y_pred = pac.predict(X_test)\n",
        "\n",
        "# Calculate the accuracy\n",
        "accuracy = accuracy_score(y_test, y_pred)\n",
        "print(\"Accuracy:\", accuracy)"
      ],
      "metadata": {
        "id": "nPkN-zsfan43",
        "colab": {
          "base_uri": "https://localhost:8080/"
        },
        "outputId": "21b65e74-c880-410f-d0fb-cff927068f08"
      },
      "execution_count": 15,
      "outputs": [
        {
          "output_type": "stream",
          "name": "stdout",
          "text": [
            "Accuracy: 0.7887197851387645\n"
          ]
        }
      ]
    },
    {
      "cell_type": "code",
      "source": [
        "# Evaluate the model\n",
        "print(\"\\nConfusion Matrix:\")\n",
        "print(confusion_matrix(y_test, y_pred))\n",
        "print(\"\\nClassification Report:\")\n",
        "print(classification_report(y_test, y_pred))"
      ],
      "metadata": {
        "colab": {
          "base_uri": "https://localhost:8080/"
        },
        "id": "QJhIp-5eIgw-",
        "outputId": "7f2fc001-cbad-4fae-eb6b-a8441d03ed64"
      },
      "execution_count": 16,
      "outputs": [
        {
          "output_type": "stream",
          "name": "stdout",
          "text": [
            "\n",
            "Confusion Matrix:\n",
            "[[313  27  16]\n",
            " [ 55 362  14]\n",
            " [ 78  46 206]]\n",
            "\n",
            "Classification Report:\n",
            "              precision    recall  f1-score   support\n",
            "\n",
            "           0       0.70      0.88      0.78       356\n",
            "           1       0.83      0.84      0.84       431\n",
            "           2       0.87      0.62      0.73       330\n",
            "\n",
            "    accuracy                           0.79      1117\n",
            "   macro avg       0.80      0.78      0.78      1117\n",
            "weighted avg       0.80      0.79      0.79      1117\n",
            "\n"
          ]
        }
      ]
    },
    {
      "cell_type": "code",
      "source": [
        "# pickle the model\n",
        "import pickle\n",
        "filename = '/content/drive/My Drive/HateSpeechData/pac.sav'\n",
        "pickle.dump(pac, open(filename, 'wb'))"
      ],
      "metadata": {
        "id": "fkeMptaeHEvr"
      },
      "execution_count": 8,
      "outputs": []
    },
    {
      "cell_type": "code",
      "source": [
        "# example on a single sentence\n",
        "sentence = [\" حسبي الله و نعم الوكيل الله يقطع الرجال من دنيا فحال هذا والله ينعل لي مايحشم على عراضو,\"]\n",
        "encoded_input = tokenizer(sentence, padding=\"max_length\", max_length=128, truncation=True, return_tensors='pt')\n",
        "output = model(**encoded_input)\n",
        "sentence_embedding = output.last_hidden_state.detach().numpy().reshape(1, -1)\n",
        "\n",
        "y_pred = pac.predict(sentence_embedding)\n",
        "print(y_pred)"
      ],
      "metadata": {
        "colab": {
          "base_uri": "https://localhost:8080/"
        },
        "id": "duHf06Y5fbm4",
        "outputId": "6bc2550a-dfdd-4c3a-a133-80bc8e96686a"
      },
      "execution_count": 12,
      "outputs": [
        {
          "output_type": "stream",
          "name": "stdout",
          "text": [
            "[2]\n"
          ]
        }
      ]
    }
  ],
  "metadata": {
    "accelerator": "GPU",
    "colab": {
      "gpuType": "T4",
      "provenance": [],
      "collapsed_sections": [
        "opiyF8wzwuN4",
        "mvzJ92RL-Xfj",
        "lsiAy6ZhF-ab"
      ]
    },
    "kernelspec": {
      "display_name": "Python 3",
      "name": "python3"
    },
    "language_info": {
      "name": "python"
    }
  },
  "nbformat": 4,
  "nbformat_minor": 0
}